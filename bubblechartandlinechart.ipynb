{
 "cells": [
  {
   "cell_type": "code",
   "execution_count": 5,
   "metadata": {
    "tags": []
   },
   "outputs": [
    {
     "name": "stdout",
     "output_type": "stream",
     "text": [
      "Collecting pycountry_convert\n",
      "  Downloading pycountry_convert-0.7.2-py3-none-any.whl (13 kB)\n",
      "Collecting pprintpp>=0.3.0 (from pycountry_convert)\n",
      "  Downloading pprintpp-0.4.0-py2.py3-none-any.whl (16 kB)\n",
      "Collecting pycountry>=16.11.27.1 (from pycountry_convert)\n",
      "  Downloading pycountry-23.12.11-py3-none-any.whl (6.2 MB)\n",
      "\u001b[2K     \u001b[90m━━━━━━━━━━━━━━━━━━━━━━━━━━━━━━━━━━━━━━━━\u001b[0m \u001b[32m6.2/6.2 MB\u001b[0m \u001b[31m47.2 MB/s\u001b[0m eta \u001b[36m0:00:00\u001b[0m00:01\u001b[0m00:01\u001b[0m\n",
      "\u001b[?25hRequirement already satisfied: pytest>=3.4.0 in /opt/software/lib/python3.10/site-packages (from pycountry_convert) (7.4.0)\n",
      "Collecting pytest-mock>=1.6.3 (from pycountry_convert)\n",
      "  Downloading pytest_mock-3.14.0-py3-none-any.whl (9.9 kB)\n",
      "Collecting pytest-cov>=2.5.1 (from pycountry_convert)\n",
      "  Downloading pytest_cov-5.0.0-py3-none-any.whl (21 kB)\n",
      "Collecting repoze.lru>=0.7 (from pycountry_convert)\n",
      "  Downloading repoze.lru-0.7-py3-none-any.whl (10 kB)\n",
      "Requirement already satisfied: wheel>=0.30.0 in /opt/software/lib/python3.10/site-packages (from pycountry_convert) (0.40.0)\n",
      "Requirement already satisfied: iniconfig in /opt/software/lib/python3.10/site-packages (from pytest>=3.4.0->pycountry_convert) (1.1.1)\n",
      "Requirement already satisfied: packaging in /opt/software/lib/python3.10/site-packages (from pytest>=3.4.0->pycountry_convert) (23.2)\n",
      "Requirement already satisfied: pluggy<2.0,>=0.12 in /opt/software/lib/python3.10/site-packages (from pytest>=3.4.0->pycountry_convert) (1.2.0)\n",
      "Requirement already satisfied: exceptiongroup>=1.0.0rc8 in /opt/software/lib/python3.10/site-packages (from pytest>=3.4.0->pycountry_convert) (1.2.0)\n",
      "Requirement already satisfied: tomli>=1.0.0 in /opt/software/lib/python3.10/site-packages (from pytest>=3.4.0->pycountry_convert) (2.0.1)\n",
      "Requirement already satisfied: coverage[toml]>=5.2.1 in /opt/software/lib/python3.10/site-packages (from pytest-cov>=2.5.1->pycountry_convert) (7.2.2)\n",
      "Installing collected packages: repoze.lru, pprintpp, pycountry, pytest-mock, pytest-cov, pycountry_convert\n",
      "Successfully installed pprintpp-0.4.0 pycountry-23.12.11 pycountry_convert-0.7.2 pytest-cov-5.0.0 pytest-mock-3.14.0 repoze.lru-0.7\n",
      "Note: you may need to restart the kernel to use updated packages.\n"
     ]
    }
   ],
   "source": [
    "pip install pycountry_convert"
   ]
  },
  {
   "cell_type": "code",
   "execution_count": 6,
   "metadata": {
    "tags": []
   },
   "outputs": [],
   "source": [
    "import numpy as np\n",
    "import pandas as pd\n",
    "import matplotlib.pyplot as plt\n",
    "import pycountry_convert as pc\n",
    "from statsmodels.formula.api import ols\n",
    "import seaborn as sns"
   ]
  },
  {
   "cell_type": "code",
   "execution_count": 7,
   "metadata": {
    "tags": []
   },
   "outputs": [
    {
     "name": "stdout",
     "output_type": "stream",
     "text": [
      "Location         0\n",
      "Period           0\n",
      "Indicator        0\n",
      "First Tooltip    0\n",
      "dtype: int64 \n",
      "\n",
      "Location         0\n",
      "Period           0\n",
      "Indicator        0\n",
      "First Tooltip    0\n",
      "dtype: int64 \n",
      "\n",
      "Location         0\n",
      "Period           0\n",
      "Indicator        0\n",
      "Dim1             0\n",
      "First Tooltip    0\n",
      "dtype: int64 \n",
      "\n"
     ]
    }
   ],
   "source": [
    "medDoc = pd.read_csv('medicalDoctors.csv')\n",
    "pharm = pd.read_csv('pharmacists.csv')\n",
    "lifeExp = pd.read_csv('HALElifeExpectancyAtBirth.csv')\n",
    "\n",
    "# Checking null values\n",
    "print(medDoc.isnull().sum(), '\\n')\n",
    "print(pharm.isnull().sum(), '\\n')\n",
    "print(lifeExp.isnull().sum(), '\\n')"
   ]
  },
  {
   "cell_type": "code",
   "execution_count": 8,
   "metadata": {
    "tags": []
   },
   "outputs": [
    {
     "data": {
      "text/html": [
       "<div>\n",
       "<style scoped>\n",
       "    .dataframe tbody tr th:only-of-type {\n",
       "        vertical-align: middle;\n",
       "    }\n",
       "\n",
       "    .dataframe tbody tr th {\n",
       "        vertical-align: top;\n",
       "    }\n",
       "\n",
       "    .dataframe thead th {\n",
       "        text-align: right;\n",
       "    }\n",
       "</style>\n",
       "<table border=\"1\" class=\"dataframe\">\n",
       "  <thead>\n",
       "    <tr style=\"text-align: right;\">\n",
       "      <th></th>\n",
       "      <th>Location</th>\n",
       "      <th>Period</th>\n",
       "      <th>Indicator</th>\n",
       "      <th>First Tooltip</th>\n",
       "    </tr>\n",
       "  </thead>\n",
       "  <tbody>\n",
       "    <tr>\n",
       "      <th>0</th>\n",
       "      <td>Afghanistan</td>\n",
       "      <td>2016</td>\n",
       "      <td>Medical doctors (per 10,000)</td>\n",
       "      <td>2.78</td>\n",
       "    </tr>\n",
       "    <tr>\n",
       "      <th>1</th>\n",
       "      <td>Afghanistan</td>\n",
       "      <td>2015</td>\n",
       "      <td>Medical doctors (per 10,000)</td>\n",
       "      <td>2.85</td>\n",
       "    </tr>\n",
       "    <tr>\n",
       "      <th>2</th>\n",
       "      <td>Afghanistan</td>\n",
       "      <td>2014</td>\n",
       "      <td>Medical doctors (per 10,000)</td>\n",
       "      <td>2.98</td>\n",
       "    </tr>\n",
       "    <tr>\n",
       "      <th>3</th>\n",
       "      <td>Afghanistan</td>\n",
       "      <td>2013</td>\n",
       "      <td>Medical doctors (per 10,000)</td>\n",
       "      <td>2.85</td>\n",
       "    </tr>\n",
       "    <tr>\n",
       "      <th>4</th>\n",
       "      <td>Afghanistan</td>\n",
       "      <td>2012</td>\n",
       "      <td>Medical doctors (per 10,000)</td>\n",
       "      <td>2.41</td>\n",
       "    </tr>\n",
       "  </tbody>\n",
       "</table>\n",
       "</div>"
      ],
      "text/plain": [
       "      Location  Period                     Indicator  First Tooltip\n",
       "0  Afghanistan    2016  Medical doctors (per 10,000)           2.78\n",
       "1  Afghanistan    2015  Medical doctors (per 10,000)           2.85\n",
       "2  Afghanistan    2014  Medical doctors (per 10,000)           2.98\n",
       "3  Afghanistan    2013  Medical doctors (per 10,000)           2.85\n",
       "4  Afghanistan    2012  Medical doctors (per 10,000)           2.41"
      ]
     },
     "execution_count": 8,
     "metadata": {},
     "output_type": "execute_result"
    }
   ],
   "source": [
    "medDoc.head()"
   ]
  },
  {
   "cell_type": "code",
   "execution_count": 6,
   "metadata": {},
   "outputs": [
    {
     "data": {
      "text/html": [
       "<div>\n",
       "<style scoped>\n",
       "    .dataframe tbody tr th:only-of-type {\n",
       "        vertical-align: middle;\n",
       "    }\n",
       "\n",
       "    .dataframe tbody tr th {\n",
       "        vertical-align: top;\n",
       "    }\n",
       "\n",
       "    .dataframe thead th {\n",
       "        text-align: right;\n",
       "    }\n",
       "</style>\n",
       "<table border=\"1\" class=\"dataframe\">\n",
       "  <thead>\n",
       "    <tr style=\"text-align: right;\">\n",
       "      <th></th>\n",
       "      <th>Location</th>\n",
       "      <th>Period</th>\n",
       "      <th>Indicator</th>\n",
       "      <th>First Tooltip</th>\n",
       "    </tr>\n",
       "  </thead>\n",
       "  <tbody>\n",
       "    <tr>\n",
       "      <th>0</th>\n",
       "      <td>Afghanistan</td>\n",
       "      <td>2016</td>\n",
       "      <td>Pharmacists  (per 10,000)</td>\n",
       "      <td>0.47</td>\n",
       "    </tr>\n",
       "    <tr>\n",
       "      <th>1</th>\n",
       "      <td>Afghanistan</td>\n",
       "      <td>2015</td>\n",
       "      <td>Pharmacists  (per 10,000)</td>\n",
       "      <td>0.50</td>\n",
       "    </tr>\n",
       "    <tr>\n",
       "      <th>2</th>\n",
       "      <td>Afghanistan</td>\n",
       "      <td>2014</td>\n",
       "      <td>Pharmacists  (per 10,000)</td>\n",
       "      <td>0.51</td>\n",
       "    </tr>\n",
       "    <tr>\n",
       "      <th>3</th>\n",
       "      <td>Afghanistan</td>\n",
       "      <td>2012</td>\n",
       "      <td>Pharmacists  (per 10,000)</td>\n",
       "      <td>0.27</td>\n",
       "    </tr>\n",
       "    <tr>\n",
       "      <th>4</th>\n",
       "      <td>Afghanistan</td>\n",
       "      <td>2011</td>\n",
       "      <td>Pharmacists  (per 10,000)</td>\n",
       "      <td>0.28</td>\n",
       "    </tr>\n",
       "  </tbody>\n",
       "</table>\n",
       "</div>"
      ],
      "text/plain": [
       "      Location  Period                  Indicator  First Tooltip\n",
       "0  Afghanistan    2016  Pharmacists  (per 10,000)           0.47\n",
       "1  Afghanistan    2015  Pharmacists  (per 10,000)           0.50\n",
       "2  Afghanistan    2014  Pharmacists  (per 10,000)           0.51\n",
       "3  Afghanistan    2012  Pharmacists  (per 10,000)           0.27\n",
       "4  Afghanistan    2011  Pharmacists  (per 10,000)           0.28"
      ]
     },
